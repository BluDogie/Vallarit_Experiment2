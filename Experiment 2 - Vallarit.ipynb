{
 "cells": [
  {
   "cell_type": "markdown",
   "id": "3b827259-0cfe-460b-97d1-59484e5e1bb3",
   "metadata": {},
   "source": [
    "# EXPERIMENT 2 - NUMERICAL PYTHON (NUMPY)"
   ]
  },
  {
   "cell_type": "markdown",
   "id": "a0f1c425-e66d-46d1-be24-a075f49d6815",
   "metadata": {},
   "source": [
    "Vallarit, Marick Andrei T.\n",
    "2ECE-C"
   ]
  },
  {
   "cell_type": "markdown",
   "id": "d4eb0ab9-57f6-4925-ae4b-8ebe24a92643",
   "metadata": {},
   "source": [
    "### NORMALIZATION PROBLEM:"
   ]
  },
  {
   "cell_type": "code",
   "execution_count": 2,
   "id": "7c3b4215-5249-41de-80f3-7029bfa9d704",
   "metadata": {},
   "outputs": [
    {
     "name": "stdout",
     "output_type": "stream",
     "text": [
      "[[-1.43284997  0.77120825  0.25710994 -0.01093235  1.14505757]\n",
      " [-0.1806092   1.00287039 -0.97448315  1.36846219 -1.47045064]\n",
      " [-0.26523892 -0.42063726 -0.86103245 -1.41693486  0.75828337]\n",
      " [ 1.38409513 -0.35546331 -0.78274944 -0.59681767 -1.09398446]\n",
      " [ 1.37039907  1.37472261  1.27342328  0.42314457 -1.26659269]]\n"
     ]
    }
   ],
   "source": [
    "import numpy as np # Import numpy library\n",
    "\n",
    "X = np.random.rand(5, 5) # Construct a 5 x 5 array with random integers\n",
    "\n",
    "# Normalize the array\n",
    "Xmean = X.mean() \n",
    "Xstd = X.std()\n",
    "Xnormalized = (X - Xmean) / Xstd\n",
    "\n",
    "np.save('X_normalized.npy', Xnormalized) # Save the result of the normalized array as a file named X_normalized.npy\n",
    "\n",
    "print(Xnormalized) # Print result just to check"
   ]
  },
  {
   "cell_type": "markdown",
   "id": "f65e1be3-d6ae-484c-a43a-033b2f602f9f",
   "metadata": {},
   "source": [
    "### DIVISIBLE BY 3 PROBLEM:"
   ]
  },
  {
   "cell_type": "code",
   "execution_count": 4,
   "id": "0bfb86e5-ee88-49b3-bb3e-293cd2386836",
   "metadata": {},
   "outputs": [
    {
     "name": "stdout",
     "output_type": "stream",
     "text": [
      "[   9   36   81  144  225  324  441  576  729  900 1089 1296 1521 1764\n",
      " 2025 2304 2601 2916 3249 3600 3969 4356 4761 5184 5625 6084 6561 7056\n",
      " 7569 8100 8649 9216 9801]\n"
     ]
    }
   ],
   "source": [
    "import numpy as np # Import numpy library\n",
    "\n",
    "A = np.arange(1,101) # Get the first positive integers from 1 - 100\n",
    "Aarray = A.reshape(10,10) ** 2 # Construct a 10x10 array, then get the squares of each integers\n",
    "\n",
    "divisible = Aarray[Aarray % 3 == 0] # Get the numbers that are divisible by 3\n",
    "\n",
    "np.save('div_by_3.npy', divisible) # Save the result as a file named div_by_3.npy\n",
    "\n",
    "print(divisible) # Print the elements that are divisible by 3 just to check"
   ]
  },
  {
   "cell_type": "code",
   "execution_count": null,
   "id": "597c4313-f5f6-4c9f-8501-06609e702963",
   "metadata": {},
   "outputs": [],
   "source": []
  }
 ],
 "metadata": {
  "kernelspec": {
   "display_name": "Python 3 (ipykernel)",
   "language": "python",
   "name": "python3"
  },
  "language_info": {
   "codemirror_mode": {
    "name": "ipython",
    "version": 3
   },
   "file_extension": ".py",
   "mimetype": "text/x-python",
   "name": "python",
   "nbconvert_exporter": "python",
   "pygments_lexer": "ipython3",
   "version": "3.12.4"
  }
 },
 "nbformat": 4,
 "nbformat_minor": 5
}
